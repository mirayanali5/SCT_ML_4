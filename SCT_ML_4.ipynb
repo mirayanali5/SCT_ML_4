{
 "cells": [
  {
   "cell_type": "code",
   "execution_count": 5,
   "metadata": {
    "colab": {
     "base_uri": "https://localhost:8080/"
    },
    "id": "N2X-GlL9kLd3",
    "outputId": "067f74a7-b3ce-4b52-c6ce-55e218f207f2",
    "scrolled": true
   },
   "outputs": [
    {
     "name": "stdout",
     "output_type": "stream",
     "text": [
      "Requirement already satisfied: opencv-python in /usr/local/lib/python3.11/dist-packages (4.11.0.86)\n",
      "Requirement already satisfied: tensorflow in /usr/local/lib/python3.11/dist-packages (2.18.0)\n",
      "Requirement already satisfied: numpy>=1.21.2 in /usr/local/lib/python3.11/dist-packages (from opencv-python) (2.0.2)\n",
      "Requirement already satisfied: absl-py>=1.0.0 in /usr/local/lib/python3.11/dist-packages (from tensorflow) (1.4.0)\n",
      "Requirement already satisfied: astunparse>=1.6.0 in /usr/local/lib/python3.11/dist-packages (from tensorflow) (1.6.3)\n",
      "Requirement already satisfied: flatbuffers>=24.3.25 in /usr/local/lib/python3.11/dist-packages (from tensorflow) (25.2.10)\n",
      "Requirement already satisfied: gast!=0.5.0,!=0.5.1,!=0.5.2,>=0.2.1 in /usr/local/lib/python3.11/dist-packages (from tensorflow) (0.6.0)\n",
      "Requirement already satisfied: google-pasta>=0.1.1 in /usr/local/lib/python3.11/dist-packages (from tensorflow) (0.2.0)\n",
      "Requirement already satisfied: libclang>=13.0.0 in /usr/local/lib/python3.11/dist-packages (from tensorflow) (18.1.1)\n",
      "Requirement already satisfied: opt-einsum>=2.3.2 in /usr/local/lib/python3.11/dist-packages (from tensorflow) (3.4.0)\n",
      "Requirement already satisfied: packaging in /usr/local/lib/python3.11/dist-packages (from tensorflow) (24.2)\n",
      "Requirement already satisfied: protobuf!=4.21.0,!=4.21.1,!=4.21.2,!=4.21.3,!=4.21.4,!=4.21.5,<6.0.0dev,>=3.20.3 in /usr/local/lib/python3.11/dist-packages (from tensorflow) (5.29.4)\n",
      "Requirement already satisfied: requests<3,>=2.21.0 in /usr/local/lib/python3.11/dist-packages (from tensorflow) (2.32.3)\n",
      "Requirement already satisfied: setuptools in /usr/local/lib/python3.11/dist-packages (from tensorflow) (75.2.0)\n",
      "Requirement already satisfied: six>=1.12.0 in /usr/local/lib/python3.11/dist-packages (from tensorflow) (1.17.0)\n",
      "Requirement already satisfied: termcolor>=1.1.0 in /usr/local/lib/python3.11/dist-packages (from tensorflow) (3.1.0)\n",
      "Requirement already satisfied: typing-extensions>=3.6.6 in /usr/local/lib/python3.11/dist-packages (from tensorflow) (4.13.2)\n",
      "Requirement already satisfied: wrapt>=1.11.0 in /usr/local/lib/python3.11/dist-packages (from tensorflow) (1.17.2)\n",
      "Requirement already satisfied: grpcio<2.0,>=1.24.3 in /usr/local/lib/python3.11/dist-packages (from tensorflow) (1.71.0)\n",
      "Requirement already satisfied: tensorboard<2.19,>=2.18 in /usr/local/lib/python3.11/dist-packages (from tensorflow) (2.18.0)\n",
      "Requirement already satisfied: keras>=3.5.0 in /usr/local/lib/python3.11/dist-packages (from tensorflow) (3.8.0)\n",
      "Requirement already satisfied: h5py>=3.11.0 in /usr/local/lib/python3.11/dist-packages (from tensorflow) (3.13.0)\n",
      "Requirement already satisfied: ml-dtypes<0.5.0,>=0.4.0 in /usr/local/lib/python3.11/dist-packages (from tensorflow) (0.4.1)\n",
      "Requirement already satisfied: tensorflow-io-gcs-filesystem>=0.23.1 in /usr/local/lib/python3.11/dist-packages (from tensorflow) (0.37.1)\n",
      "Requirement already satisfied: wheel<1.0,>=0.23.0 in /usr/local/lib/python3.11/dist-packages (from astunparse>=1.6.0->tensorflow) (0.45.1)\n",
      "Requirement already satisfied: rich in /usr/local/lib/python3.11/dist-packages (from keras>=3.5.0->tensorflow) (13.9.4)\n",
      "Requirement already satisfied: namex in /usr/local/lib/python3.11/dist-packages (from keras>=3.5.0->tensorflow) (0.0.9)\n",
      "Requirement already satisfied: optree in /usr/local/lib/python3.11/dist-packages (from keras>=3.5.0->tensorflow) (0.15.0)\n",
      "Requirement already satisfied: charset-normalizer<4,>=2 in /usr/local/lib/python3.11/dist-packages (from requests<3,>=2.21.0->tensorflow) (3.4.2)\n",
      "Requirement already satisfied: idna<4,>=2.5 in /usr/local/lib/python3.11/dist-packages (from requests<3,>=2.21.0->tensorflow) (3.10)\n",
      "Requirement already satisfied: urllib3<3,>=1.21.1 in /usr/local/lib/python3.11/dist-packages (from requests<3,>=2.21.0->tensorflow) (2.4.0)\n",
      "Requirement already satisfied: certifi>=2017.4.17 in /usr/local/lib/python3.11/dist-packages (from requests<3,>=2.21.0->tensorflow) (2025.4.26)\n",
      "Requirement already satisfied: markdown>=2.6.8 in /usr/local/lib/python3.11/dist-packages (from tensorboard<2.19,>=2.18->tensorflow) (3.8)\n",
      "Requirement already satisfied: tensorboard-data-server<0.8.0,>=0.7.0 in /usr/local/lib/python3.11/dist-packages (from tensorboard<2.19,>=2.18->tensorflow) (0.7.2)\n",
      "Requirement already satisfied: werkzeug>=1.0.1 in /usr/local/lib/python3.11/dist-packages (from tensorboard<2.19,>=2.18->tensorflow) (3.1.3)\n",
      "Requirement already satisfied: MarkupSafe>=2.1.1 in /usr/local/lib/python3.11/dist-packages (from werkzeug>=1.0.1->tensorboard<2.19,>=2.18->tensorflow) (3.0.2)\n",
      "Requirement already satisfied: markdown-it-py>=2.2.0 in /usr/local/lib/python3.11/dist-packages (from rich->keras>=3.5.0->tensorflow) (3.0.0)\n",
      "Requirement already satisfied: pygments<3.0.0,>=2.13.0 in /usr/local/lib/python3.11/dist-packages (from rich->keras>=3.5.0->tensorflow) (2.19.1)\n",
      "Requirement already satisfied: mdurl~=0.1 in /usr/local/lib/python3.11/dist-packages (from markdown-it-py>=2.2.0->rich->keras>=3.5.0->tensorflow) (0.1.2)\n"
     ]
    }
   ],
   "source": [
    "!pip install opencv-python tensorflow\n"
   ]
  },
  {
   "cell_type": "code",
   "execution_count": 1,
   "metadata": {
    "colab": {
     "base_uri": "https://localhost:8080/",
     "height": 90
    },
    "id": "R_wJxripjoID",
    "outputId": "8cc1828e-d18c-4dde-ef30-d8a57625f792"
   },
   "outputs": [
    {
     "data": {
      "text/html": [
       "\n",
       "     <input type=\"file\" id=\"files-a3e6c935-ccdd-486e-aeb4-a13ea6d1b971\" name=\"files[]\" multiple disabled\n",
       "        style=\"border:none\" />\n",
       "     <output id=\"result-a3e6c935-ccdd-486e-aeb4-a13ea6d1b971\">\n",
       "      Upload widget is only available when the cell has been executed in the\n",
       "      current browser session. Please rerun this cell to enable.\n",
       "      </output>\n",
       "      <script>// Copyright 2017 Google LLC\n",
       "//\n",
       "// Licensed under the Apache License, Version 2.0 (the \"License\");\n",
       "// you may not use this file except in compliance with the License.\n",
       "// You may obtain a copy of the License at\n",
       "//\n",
       "//      http://www.apache.org/licenses/LICENSE-2.0\n",
       "//\n",
       "// Unless required by applicable law or agreed to in writing, software\n",
       "// distributed under the License is distributed on an \"AS IS\" BASIS,\n",
       "// WITHOUT WARRANTIES OR CONDITIONS OF ANY KIND, either express or implied.\n",
       "// See the License for the specific language governing permissions and\n",
       "// limitations under the License.\n",
       "\n",
       "/**\n",
       " * @fileoverview Helpers for google.colab Python module.\n",
       " */\n",
       "(function(scope) {\n",
       "function span(text, styleAttributes = {}) {\n",
       "  const element = document.createElement('span');\n",
       "  element.textContent = text;\n",
       "  for (const key of Object.keys(styleAttributes)) {\n",
       "    element.style[key] = styleAttributes[key];\n",
       "  }\n",
       "  return element;\n",
       "}\n",
       "\n",
       "// Max number of bytes which will be uploaded at a time.\n",
       "const MAX_PAYLOAD_SIZE = 100 * 1024;\n",
       "\n",
       "function _uploadFiles(inputId, outputId) {\n",
       "  const steps = uploadFilesStep(inputId, outputId);\n",
       "  const outputElement = document.getElementById(outputId);\n",
       "  // Cache steps on the outputElement to make it available for the next call\n",
       "  // to uploadFilesContinue from Python.\n",
       "  outputElement.steps = steps;\n",
       "\n",
       "  return _uploadFilesContinue(outputId);\n",
       "}\n",
       "\n",
       "// This is roughly an async generator (not supported in the browser yet),\n",
       "// where there are multiple asynchronous steps and the Python side is going\n",
       "// to poll for completion of each step.\n",
       "// This uses a Promise to block the python side on completion of each step,\n",
       "// then passes the result of the previous step as the input to the next step.\n",
       "function _uploadFilesContinue(outputId) {\n",
       "  const outputElement = document.getElementById(outputId);\n",
       "  const steps = outputElement.steps;\n",
       "\n",
       "  const next = steps.next(outputElement.lastPromiseValue);\n",
       "  return Promise.resolve(next.value.promise).then((value) => {\n",
       "    // Cache the last promise value to make it available to the next\n",
       "    // step of the generator.\n",
       "    outputElement.lastPromiseValue = value;\n",
       "    return next.value.response;\n",
       "  });\n",
       "}\n",
       "\n",
       "/**\n",
       " * Generator function which is called between each async step of the upload\n",
       " * process.\n",
       " * @param {string} inputId Element ID of the input file picker element.\n",
       " * @param {string} outputId Element ID of the output display.\n",
       " * @return {!Iterable<!Object>} Iterable of next steps.\n",
       " */\n",
       "function* uploadFilesStep(inputId, outputId) {\n",
       "  const inputElement = document.getElementById(inputId);\n",
       "  inputElement.disabled = false;\n",
       "\n",
       "  const outputElement = document.getElementById(outputId);\n",
       "  outputElement.innerHTML = '';\n",
       "\n",
       "  const pickedPromise = new Promise((resolve) => {\n",
       "    inputElement.addEventListener('change', (e) => {\n",
       "      resolve(e.target.files);\n",
       "    });\n",
       "  });\n",
       "\n",
       "  const cancel = document.createElement('button');\n",
       "  inputElement.parentElement.appendChild(cancel);\n",
       "  cancel.textContent = 'Cancel upload';\n",
       "  const cancelPromise = new Promise((resolve) => {\n",
       "    cancel.onclick = () => {\n",
       "      resolve(null);\n",
       "    };\n",
       "  });\n",
       "\n",
       "  // Wait for the user to pick the files.\n",
       "  const files = yield {\n",
       "    promise: Promise.race([pickedPromise, cancelPromise]),\n",
       "    response: {\n",
       "      action: 'starting',\n",
       "    }\n",
       "  };\n",
       "\n",
       "  cancel.remove();\n",
       "\n",
       "  // Disable the input element since further picks are not allowed.\n",
       "  inputElement.disabled = true;\n",
       "\n",
       "  if (!files) {\n",
       "    return {\n",
       "      response: {\n",
       "        action: 'complete',\n",
       "      }\n",
       "    };\n",
       "  }\n",
       "\n",
       "  for (const file of files) {\n",
       "    const li = document.createElement('li');\n",
       "    li.append(span(file.name, {fontWeight: 'bold'}));\n",
       "    li.append(span(\n",
       "        `(${file.type || 'n/a'}) - ${file.size} bytes, ` +\n",
       "        `last modified: ${\n",
       "            file.lastModifiedDate ? file.lastModifiedDate.toLocaleDateString() :\n",
       "                                    'n/a'} - `));\n",
       "    const percent = span('0% done');\n",
       "    li.appendChild(percent);\n",
       "\n",
       "    outputElement.appendChild(li);\n",
       "\n",
       "    const fileDataPromise = new Promise((resolve) => {\n",
       "      const reader = new FileReader();\n",
       "      reader.onload = (e) => {\n",
       "        resolve(e.target.result);\n",
       "      };\n",
       "      reader.readAsArrayBuffer(file);\n",
       "    });\n",
       "    // Wait for the data to be ready.\n",
       "    let fileData = yield {\n",
       "      promise: fileDataPromise,\n",
       "      response: {\n",
       "        action: 'continue',\n",
       "      }\n",
       "    };\n",
       "\n",
       "    // Use a chunked sending to avoid message size limits. See b/62115660.\n",
       "    let position = 0;\n",
       "    do {\n",
       "      const length = Math.min(fileData.byteLength - position, MAX_PAYLOAD_SIZE);\n",
       "      const chunk = new Uint8Array(fileData, position, length);\n",
       "      position += length;\n",
       "\n",
       "      const base64 = btoa(String.fromCharCode.apply(null, chunk));\n",
       "      yield {\n",
       "        response: {\n",
       "          action: 'append',\n",
       "          file: file.name,\n",
       "          data: base64,\n",
       "        },\n",
       "      };\n",
       "\n",
       "      let percentDone = fileData.byteLength === 0 ?\n",
       "          100 :\n",
       "          Math.round((position / fileData.byteLength) * 100);\n",
       "      percent.textContent = `${percentDone}% done`;\n",
       "\n",
       "    } while (position < fileData.byteLength);\n",
       "  }\n",
       "\n",
       "  // All done.\n",
       "  yield {\n",
       "    response: {\n",
       "      action: 'complete',\n",
       "    }\n",
       "  };\n",
       "}\n",
       "\n",
       "scope.google = scope.google || {};\n",
       "scope.google.colab = scope.google.colab || {};\n",
       "scope.google.colab._files = {\n",
       "  _uploadFiles,\n",
       "  _uploadFilesContinue,\n",
       "};\n",
       "})(self);\n",
       "</script> "
      ],
      "text/plain": [
       "<IPython.core.display.HTML object>"
      ]
     },
     "metadata": {},
     "output_type": "display_data"
    },
    {
     "name": "stdout",
     "output_type": "stream",
     "text": [
      "Saving kaggle.json to kaggle.json\n"
     ]
    },
    {
     "data": {
      "text/plain": [
       "{'kaggle.json': b'{\"username\":\"mirayanali\",\"key\":\"154aa74a50bb99ea54f41b4728255602\"}'}"
      ]
     },
     "execution_count": 1,
     "metadata": {},
     "output_type": "execute_result"
    }
   ],
   "source": [
    "from google.colab import files\n",
    "files.upload()\n"
   ]
  },
  {
   "cell_type": "code",
   "execution_count": 2,
   "metadata": {
    "id": "NfCrtZV2jsDC"
   },
   "outputs": [],
   "source": [
    "!mkdir -p ~/.kaggle\n",
    "!cp kaggle.json ~/.kaggle/\n",
    "!chmod 600 ~/.kaggle/kaggle.json\n"
   ]
  },
  {
   "cell_type": "code",
   "execution_count": 3,
   "metadata": {
    "colab": {
     "base_uri": "https://localhost:8080/"
    },
    "id": "95Az63Sij1TS",
    "outputId": "0809f1c0-58f2-48ca-94e7-93a58d13ac1d"
   },
   "outputs": [
    {
     "name": "stdout",
     "output_type": "stream",
     "text": [
      "Dataset URL: https://www.kaggle.com/datasets/gti-upm/leapgestrecog\n",
      "License(s): CC-BY-NC-SA-4.0\n",
      "Downloading leapgestrecog.zip to /content\n",
      " 99% 2.12G/2.13G [00:15<00:00, 203MB/s]\n",
      "100% 2.13G/2.13G [00:15<00:00, 143MB/s]\n"
     ]
    }
   ],
   "source": [
    "!kaggle datasets download -d gti-upm/leapgestrecog\n"
   ]
  },
  {
   "cell_type": "code",
   "execution_count": 4,
   "metadata": {
    "colab": {
     "base_uri": "https://localhost:8080/"
    },
    "id": "WVe2l56bj3wp",
    "outputId": "49b06adc-58f5-4e35-df6b-dc34aca46c2f",
    "scrolled": true
   },
   "outputs": [
    {
     "name": "stdout",
     "output_type": "stream",
     "text": [
      "\u001b[1;30;43mStreaming output truncated to the last 5000 lines.\u001b[0m\n",

      "  inflating: leapGestRecog/leapgestrecog/leapGestRecog/09/02_l/frame_09_02_0047.png  \n",
      "  inflating: leapGestRecog/leapgestrecog/leapGestRecog/09/02_l/frame_09_02_0048.png  \n",
      "  inflating: leapGestRecog/leapgestrecog/leapGestRecog/09/02_l/frame_09_02_0049.png  \n",
      "  inflating: leapGestRecog/leapgestrecog/leapGestRecog/09/02_l/frame_09_02_0050.png  \n",
      "  inflating: leapGestRecog/leapgestrecog/leapGestRecog/09/02_l/frame_09_02_0051.png  \n",
      "  inflating: leapGestRecog/leapgestrecog/leapGestRecog/09/02_l/frame_09_02_0052.png  \n",
      "  inflating: leapGestRecog/leapgestrecog/leapGestRecog/09/02_l/frame_09_02_0053.png  \n",
      "  inflating: leapGestRecog/leapgestrecog/leapGestRecog/09/02_l/frame_09_02_0054.png  \n",
      "  inflating: leapGestRecog/leapgestrecog/leapGestRecog/09/02_l/frame_09_02_0055.png  \n",
      "  inflating: leapGestRecog/leapgestrecog/leapGestRecog/09/02_l/frame_09_02_0056.png  \n",
      "  inflating: leapGestRecog/leapgestrecog/leapGestRecog/09/02_l/frame_09_02_0057.png  \n",
      "  inflating: leapGestRecog/leapgestrecog/leapGestRecog/09/02_l/frame_09_02_0058.png  \n",
      "  inflating: leapGestRecog/leapgestrecog/leapGestRecog/09/02_l/frame_09_02_0059.png  \n",
      "  inflating: leapGestRecog/leapgestrecog/leapGestRecog/09/02_l/frame_09_02_0060.png  \n",
      "  inflating: leapGestRecog/leapgestrecog/leapGestRecog/09/02_l/frame_09_02_0061.png  \n",
      "  inflating: leapGestRecog/leapgestrecog/leapGestRecog/09/02_l/frame_09_02_0062.png  \n",
      "  inflating: leapGestRecog/leapgestrecog/leapGestRecog/09/02_l/frame_09_02_0063.png  \n",
      "  inflating: leapGestRecog/leapgestrecog/leapGestRecog/09/02_l/frame_09_02_0064.png  \n",
      "  inflating: leapGestRecog/leapgestrecog/leapGestRecog/09/02_l/frame_09_02_0065.png  \n",
      "  inflating: leapGestRecog/leapgestrecog/leapGestRecog/09/02_l/frame_09_02_0066.png  \n",
      "  inflating: leapGestRecog/leapgestrecog/leapGestRecog/09/02_l/frame_09_02_0067.png  \n",
      "  inflating: leapGestRecog/leapgestrecog/leapGestRecog/09/02_l/frame_09_02_0068.png  \n",
      "  inflating: leapGestRecog/leapgestrecog/leapGestRecog/09/02_l/frame_09_02_0069.png  \n",
      "  inflating: leapGestRecog/leapgestrecog/leapGestRecog/09/02_l/frame_09_02_0070.png  \n",
      "  inflating: leapGestRecog/leapgestrecog/leapGestRecog/09/02_l/frame_09_02_0071.png  \n",
      "  inflating: leapGestRecog/leapgestrecog/leapGestRecog/09/02_l/frame_09_02_0072.png  \n",
      "  inflating: leapGestRecog/leapgestrecog/leapGestRecog/09/02_l/frame_09_02_0073.png  \n",
      "  inflating: leapGestRecog/leapgestrecog/leapGestRecog/09/02_l/frame_09_02_0074.png  \n",
      "  inflating: leapGestRecog/leapgestrecog/leapGestRecog/09/02_l/frame_09_02_0075.png  \n",
      "  inflating: leapGestRecog/leapgestrecog/leapGestRecog/09/02_l/frame_09_02_0076.png  \n",
      "  inflating: leapGestRecog/leapgestrecog/leapGestRecog/09/02_l/frame_09_02_0077.png  \n",
      "  inflating: leapGestRecog/leapgestrecog/leapGestRecog/09/02_l/frame_09_02_0078.png  \n",
      "  inflating: leapGestRecog/leapgestrecog/leapGestRecog/09/02_l/frame_09_02_0079.png  \n",
      "  inflating: leapGestRecog/leapgestrecog/leapGestRecog/09/02_l/frame_09_02_0080.png  \n",
      "  inflating: leapGestRecog/leapgestrecog/leapGestRecog/09/02_l/frame_09_02_0081.png  \n",
      "  inflating: leapGestRecog/leapgestrecog/leapGestRecog/09/02_l/frame_09_02_0082.png  \n",
      "  inflating: leapGestRecog/leapgestrecog/leapGestRecog/09/02_l/frame_09_02_0083.png  \n",
      "  inflating: leapGestRecog/leapgestrecog/leapGestRecog/09/02_l/frame_09_02_0084.png  \n",
      "  inflating: leapGestRecog/leapgestrecog/leapGestRecog/09/02_l/frame_09_02_0085.png  \n",
      "  inflating: leapGestRecog/leapgestrecog/leapGestRecog/09/02_l/frame_09_02_0086.png  \n",
      "  inflating: leapGestRecog/leapgestrecog/leapGestRecog/09/02_l/frame_09_02_0087.png  \n",
      "  inflating: leapGestRecog/leapgestrecog/leapGestRecog/09/02_l/frame_09_02_0088.png  \n",
      "  inflating: leapGestRecog/leapgestrecog/leapGestRecog/09/02_l/frame_09_02_0089.png  \n",
      "  inflating: leapGestRecog/leapgestrecog/leapGestRecog/09/02_l/frame_09_02_0090.png  \n",
      "  inflating: leapGestRecog/leapgestrecog/leapGestRecog/09/02_l/frame_09_02_0091.png  \n",

     ]
    }
   ],
   "source": [
    "!unzip leapgestrecog.zip -d leapGestRecog\n"
   ]
  },
  {
   "cell_type": "code",
   "execution_count": 10,
   "metadata": {
    "id": "gIqjlYTIkEeM"
   },
   "outputs": [],
   "source": [
    "gesture_names = [\n",
    "    \"palm\", \"l\", \"fist\", \"fist_moved\", \"thumb\", \"index\",\n",
    "    \"ok\", \"palm_moved\", \"c\", \"down\"\n",
    "]\n",
    "label_map = {name: idx for idx, name in enumerate(gesture_names)}\n"
   ]
  },
  {
   "cell_type": "code",
   "execution_count": 12,
   "metadata": {
    "id": "YgJ0G0sQkVY1"
   },
   "outputs": [],
   "source": [
    "import os\n",
    "import cv2\n",
    "import numpy as np\n",
    "from sklearn.model_selection import train_test_split\n",
    "from tensorflow.keras.utils import to_categorical\n",
    "\n",
    "dataset_path = \"./leapGestRecog/leapGestRecog\"\n",
    "\n",
    "gesture_names = [\n",
    "    \"palm\", \"l\", \"fist\", \"fist_moved\", \"thumb\", \"index\",\n",
    "    \"ok\", \"palm_moved\", \"c\", \"down\"\n",
    "]\n",
    "label_map = {name: idx for idx, name in enumerate(gesture_names)}\n",
    "\n",
    "X, y = [], []\n",
    "\n",
    "for subject in sorted(os.listdir(dataset_path)):\n",
    "    subject_path = os.path.join(dataset_path, subject)\n",
    "    if not os.path.isdir(subject_path):\n",
    "        continue\n",
    "    for gesture_folder in sorted(os.listdir(subject_path)):\n",
    "        full_gesture_path = os.path.join(subject_path, gesture_folder)\n",
    "        if not os.path.isdir(full_gesture_path):\n",
    "            continue\n",
    "        # Strip prefix number and underscore from folder name\n",
    "        gesture_name = gesture_folder.split('_', 1)[-1]  # takes \"palm\" from \"01_palm\"\n",
    "        label = label_map.get(gesture_name)\n",
    "        if label is None:\n",
    "            print(f\"Unknown gesture folder: {gesture_folder}\")\n",
    "            continue\n",
    "        for img_file in os.listdir(full_gesture_path):\n",
    "            img_path = os.path.join(full_gesture_path, img_file)\n",
    "            img = cv2.imread(img_path, cv2.IMREAD_GRAYSCALE)\n",
    "            if img is None:\n",
    "                print(f\"Warning: Failed to read {img_path}\")\n",
    "                continue\n",
    "            img = cv2.resize(img, (64, 64))\n",
    "            X.append(img)\n",
    "            y.append(label)\n",
    "\n",
    "X = np.array(X).reshape(-1, 64, 64, 1) / 255.0\n",
    "y = to_categorical(y)\n",
    "\n",
    "X_train, X_test, y_train, y_test = train_test_split(\n",
    "    X, y, test_size=0.2, random_state=42, stratify=y\n",
    ")\n"
   ]
  },
  {
   "cell_type": "code",
   "execution_count": 14,
   "metadata": {
    "colab": {
     "base_uri": "https://localhost:8080/"
    },
    "id": "ZB9J3vtslDGt",
    "outputId": "5659a9d4-4f6c-490f-c47c-12586d536658"
   },
   "outputs": [
    {
     "name": "stdout",
     "output_type": "stream",
     "text": [
      "Loaded 20000 images with shape (64, 64, 1)\n",
      "Number of classes: 10\n"
     ]
    }
   ],
   "source": [
    "import os\n",
    "import cv2\n",
    "import numpy as np\n",
    "from tensorflow.keras.utils import to_categorical\n",
    "\n",
    "dataset_path = \"./leapGestRecog/leapGestRecog\"\n",
    "\n",
    "X, y = [], []\n",
    "label_map = {}\n",
    "\n",
    "\n",
    "for idx, class_folder in enumerate(sorted(os.listdir(dataset_path))):\n",
    "    class_path = os.path.join(dataset_path, class_folder)\n",
    "    if not os.path.isdir(class_path):\n",
    "        continue\n",
    "    label_map[class_folder] = idx\n",
    "\n",
    "\n",
    "    for subfolder in sorted(os.listdir(class_path)):\n",
    "        subfolder_path = os.path.join(class_path, subfolder)\n",
    "        if not os.path.isdir(subfolder_path):\n",
    "            continue\n",
    "\n",
    "\n",
    "        for img_name in os.listdir(subfolder_path):\n",
    "            img_path = os.path.join(subfolder_path, img_name)\n",
    "            img = cv2.imread(img_path, cv2.IMREAD_GRAYSCALE)\n",
    "            if img is None:\n",
    "                print(f\"Warning: Failed to read {img_path}\")\n",
    "                continue\n",
    "            img = cv2.resize(img, (64, 64))\n",
    "            X.append(img)\n",
    "            y.append(idx)\n",
    "\n",
    "X = np.array(X).reshape(-1, 64, 64, 1) / 255.0\n",
    "y = to_categorical(y)\n",
    "\n",
    "print(f\"Loaded {len(X)} images with shape {X[0].shape}\")\n",
    "print(f\"Number of classes: {y.shape[1]}\")\n"
   ]
  },
  {
   "cell_type": "code",
   "execution_count": 15,
   "metadata": {
    "colab": {
     "base_uri": "https://localhost:8080/",
     "height": 523
    },
    "collapsed": true,
    "id": "SDrM4ksRlm5w",
    "jupyter": {
     "outputs_hidden": true
    },
    "outputId": "d98a17bc-e9db-4c7f-8536-f8bb7cd7cdc9"
   },
   "outputs": [
    {
     "name": "stderr",
     "output_type": "stream",
     "text": [
      "/usr/local/lib/python3.11/dist-packages/keras/src/layers/convolutional/base_conv.py:107: UserWarning: Do not pass an `input_shape`/`input_dim` argument to a layer. When using Sequential models, prefer using an `Input(shape)` object as the first layer in the model instead.\n",
      "  super().__init__(activity_regularizer=activity_regularizer, **kwargs)\n"
     ]
    },
    {
     "data": {
      "text/html": [
       "<pre style=\"white-space:pre;overflow-x:auto;line-height:normal;font-family:Menlo,'DejaVu Sans Mono',consolas,'Courier New',monospace\"><span style=\"font-weight: bold\">Model: \"sequential\"</span>\n",
       "</pre>\n"
      ],
      "text/plain": [
       "\u001b[1mModel: \"sequential\"\u001b[0m\n"
      ]
     },
     "metadata": {},
     "output_type": "display_data"
    },
    {
     "data": {
      "text/html": [
       "<pre style=\"white-space:pre;overflow-x:auto;line-height:normal;font-family:Menlo,'DejaVu Sans Mono',consolas,'Courier New',monospace\">┏━━━━━━━━━━━━━━━━━━━━━━━━━━━━━━━━━┳━━━━━━━━━━━━━━━━━━━━━━━━┳━━━━━━━━━━━━━━━┓\n",
       "┃<span style=\"font-weight: bold\"> Layer (type)                    </span>┃<span style=\"font-weight: bold\"> Output Shape           </span>┃<span style=\"font-weight: bold\">       Param # </span>┃\n",
       "┡━━━━━━━━━━━━━━━━━━━━━━━━━━━━━━━━━╇━━━━━━━━━━━━━━━━━━━━━━━━╇━━━━━━━━━━━━━━━┩\n",
       "│ conv2d (<span style=\"color: #0087ff; text-decoration-color: #0087ff\">Conv2D</span>)                 │ (<span style=\"color: #00d7ff; text-decoration-color: #00d7ff\">None</span>, <span style=\"color: #00af00; text-decoration-color: #00af00\">62</span>, <span style=\"color: #00af00; text-decoration-color: #00af00\">62</span>, <span style=\"color: #00af00; text-decoration-color: #00af00\">32</span>)     │           <span style=\"color: #00af00; text-decoration-color: #00af00\">320</span> │\n",
       "├─────────────────────────────────┼────────────────────────┼───────────────┤\n",
       "│ max_pooling2d (<span style=\"color: #0087ff; text-decoration-color: #0087ff\">MaxPooling2D</span>)    │ (<span style=\"color: #00d7ff; text-decoration-color: #00d7ff\">None</span>, <span style=\"color: #00af00; text-decoration-color: #00af00\">31</span>, <span style=\"color: #00af00; text-decoration-color: #00af00\">31</span>, <span style=\"color: #00af00; text-decoration-color: #00af00\">32</span>)     │             <span style=\"color: #00af00; text-decoration-color: #00af00\">0</span> │\n",
       "├─────────────────────────────────┼────────────────────────┼───────────────┤\n",
       "│ conv2d_1 (<span style=\"color: #0087ff; text-decoration-color: #0087ff\">Conv2D</span>)               │ (<span style=\"color: #00d7ff; text-decoration-color: #00d7ff\">None</span>, <span style=\"color: #00af00; text-decoration-color: #00af00\">29</span>, <span style=\"color: #00af00; text-decoration-color: #00af00\">29</span>, <span style=\"color: #00af00; text-decoration-color: #00af00\">64</span>)     │        <span style=\"color: #00af00; text-decoration-color: #00af00\">18,496</span> │\n",
       "├─────────────────────────────────┼────────────────────────┼───────────────┤\n",
       "│ max_pooling2d_1 (<span style=\"color: #0087ff; text-decoration-color: #0087ff\">MaxPooling2D</span>)  │ (<span style=\"color: #00d7ff; text-decoration-color: #00d7ff\">None</span>, <span style=\"color: #00af00; text-decoration-color: #00af00\">14</span>, <span style=\"color: #00af00; text-decoration-color: #00af00\">14</span>, <span style=\"color: #00af00; text-decoration-color: #00af00\">64</span>)     │             <span style=\"color: #00af00; text-decoration-color: #00af00\">0</span> │\n",
       "├─────────────────────────────────┼────────────────────────┼───────────────┤\n",
       "│ conv2d_2 (<span style=\"color: #0087ff; text-decoration-color: #0087ff\">Conv2D</span>)               │ (<span style=\"color: #00d7ff; text-decoration-color: #00d7ff\">None</span>, <span style=\"color: #00af00; text-decoration-color: #00af00\">12</span>, <span style=\"color: #00af00; text-decoration-color: #00af00\">12</span>, <span style=\"color: #00af00; text-decoration-color: #00af00\">128</span>)    │        <span style=\"color: #00af00; text-decoration-color: #00af00\">73,856</span> │\n",
       "├─────────────────────────────────┼────────────────────────┼───────────────┤\n",
       "│ max_pooling2d_2 (<span style=\"color: #0087ff; text-decoration-color: #0087ff\">MaxPooling2D</span>)  │ (<span style=\"color: #00d7ff; text-decoration-color: #00d7ff\">None</span>, <span style=\"color: #00af00; text-decoration-color: #00af00\">6</span>, <span style=\"color: #00af00; text-decoration-color: #00af00\">6</span>, <span style=\"color: #00af00; text-decoration-color: #00af00\">128</span>)      │             <span style=\"color: #00af00; text-decoration-color: #00af00\">0</span> │\n",
       "├─────────────────────────────────┼────────────────────────┼───────────────┤\n",
       "│ flatten (<span style=\"color: #0087ff; text-decoration-color: #0087ff\">Flatten</span>)               │ (<span style=\"color: #00d7ff; text-decoration-color: #00d7ff\">None</span>, <span style=\"color: #00af00; text-decoration-color: #00af00\">4608</span>)           │             <span style=\"color: #00af00; text-decoration-color: #00af00\">0</span> │\n",
       "├─────────────────────────────────┼────────────────────────┼───────────────┤\n",
       "│ dense (<span style=\"color: #0087ff; text-decoration-color: #0087ff\">Dense</span>)                   │ (<span style=\"color: #00d7ff; text-decoration-color: #00d7ff\">None</span>, <span style=\"color: #00af00; text-decoration-color: #00af00\">128</span>)            │       <span style=\"color: #00af00; text-decoration-color: #00af00\">589,952</span> │\n",
       "├─────────────────────────────────┼────────────────────────┼───────────────┤\n",
       "│ dropout (<span style=\"color: #0087ff; text-decoration-color: #0087ff\">Dropout</span>)               │ (<span style=\"color: #00d7ff; text-decoration-color: #00d7ff\">None</span>, <span style=\"color: #00af00; text-decoration-color: #00af00\">128</span>)            │             <span style=\"color: #00af00; text-decoration-color: #00af00\">0</span> │\n",
       "├─────────────────────────────────┼────────────────────────┼───────────────┤\n",
       "│ dense_1 (<span style=\"color: #0087ff; text-decoration-color: #0087ff\">Dense</span>)                 │ (<span style=\"color: #00d7ff; text-decoration-color: #00d7ff\">None</span>, <span style=\"color: #00af00; text-decoration-color: #00af00\">10</span>)             │         <span style=\"color: #00af00; text-decoration-color: #00af00\">1,290</span> │\n",
       "└─────────────────────────────────┴────────────────────────┴───────────────┘\n",
       "</pre>\n"
      ],
      "text/plain": [
       "┏━━━━━━━━━━━━━━━━━━━━━━━━━━━━━━━━━┳━━━━━━━━━━━━━━━━━━━━━━━━┳━━━━━━━━━━━━━━━┓\n",
       "┃\u001b[1m \u001b[0m\u001b[1mLayer (type)                   \u001b[0m\u001b[1m \u001b[0m┃\u001b[1m \u001b[0m\u001b[1mOutput Shape          \u001b[0m\u001b[1m \u001b[0m┃\u001b[1m \u001b[0m\u001b[1m      Param #\u001b[0m\u001b[1m \u001b[0m┃\n",
       "┡━━━━━━━━━━━━━━━━━━━━━━━━━━━━━━━━━╇━━━━━━━━━━━━━━━━━━━━━━━━╇━━━━━━━━━━━━━━━┩\n",
       "│ conv2d (\u001b[38;5;33mConv2D\u001b[0m)                 │ (\u001b[38;5;45mNone\u001b[0m, \u001b[38;5;34m62\u001b[0m, \u001b[38;5;34m62\u001b[0m, \u001b[38;5;34m32\u001b[0m)     │           \u001b[38;5;34m320\u001b[0m │\n",
       "├─────────────────────────────────┼────────────────────────┼───────────────┤\n",
       "│ max_pooling2d (\u001b[38;5;33mMaxPooling2D\u001b[0m)    │ (\u001b[38;5;45mNone\u001b[0m, \u001b[38;5;34m31\u001b[0m, \u001b[38;5;34m31\u001b[0m, \u001b[38;5;34m32\u001b[0m)     │             \u001b[38;5;34m0\u001b[0m │\n",
       "├─────────────────────────────────┼────────────────────────┼───────────────┤\n",
       "│ conv2d_1 (\u001b[38;5;33mConv2D\u001b[0m)               │ (\u001b[38;5;45mNone\u001b[0m, \u001b[38;5;34m29\u001b[0m, \u001b[38;5;34m29\u001b[0m, \u001b[38;5;34m64\u001b[0m)     │        \u001b[38;5;34m18,496\u001b[0m │\n",
       "├─────────────────────────────────┼────────────────────────┼───────────────┤\n",
       "│ max_pooling2d_1 (\u001b[38;5;33mMaxPooling2D\u001b[0m)  │ (\u001b[38;5;45mNone\u001b[0m, \u001b[38;5;34m14\u001b[0m, \u001b[38;5;34m14\u001b[0m, \u001b[38;5;34m64\u001b[0m)     │             \u001b[38;5;34m0\u001b[0m │\n",
       "├─────────────────────────────────┼────────────────────────┼───────────────┤\n",
       "│ conv2d_2 (\u001b[38;5;33mConv2D\u001b[0m)               │ (\u001b[38;5;45mNone\u001b[0m, \u001b[38;5;34m12\u001b[0m, \u001b[38;5;34m12\u001b[0m, \u001b[38;5;34m128\u001b[0m)    │        \u001b[38;5;34m73,856\u001b[0m │\n",
       "├─────────────────────────────────┼────────────────────────┼───────────────┤\n",
       "│ max_pooling2d_2 (\u001b[38;5;33mMaxPooling2D\u001b[0m)  │ (\u001b[38;5;45mNone\u001b[0m, \u001b[38;5;34m6\u001b[0m, \u001b[38;5;34m6\u001b[0m, \u001b[38;5;34m128\u001b[0m)      │             \u001b[38;5;34m0\u001b[0m │\n",
       "├─────────────────────────────────┼────────────────────────┼───────────────┤\n",
       "│ flatten (\u001b[38;5;33mFlatten\u001b[0m)               │ (\u001b[38;5;45mNone\u001b[0m, \u001b[38;5;34m4608\u001b[0m)           │             \u001b[38;5;34m0\u001b[0m │\n",
       "├─────────────────────────────────┼────────────────────────┼───────────────┤\n",
       "│ dense (\u001b[38;5;33mDense\u001b[0m)                   │ (\u001b[38;5;45mNone\u001b[0m, \u001b[38;5;34m128\u001b[0m)            │       \u001b[38;5;34m589,952\u001b[0m │\n",
       "├─────────────────────────────────┼────────────────────────┼───────────────┤\n",
       "│ dropout (\u001b[38;5;33mDropout\u001b[0m)               │ (\u001b[38;5;45mNone\u001b[0m, \u001b[38;5;34m128\u001b[0m)            │             \u001b[38;5;34m0\u001b[0m │\n",
       "├─────────────────────────────────┼────────────────────────┼───────────────┤\n",
       "│ dense_1 (\u001b[38;5;33mDense\u001b[0m)                 │ (\u001b[38;5;45mNone\u001b[0m, \u001b[38;5;34m10\u001b[0m)             │         \u001b[38;5;34m1,290\u001b[0m │\n",
       "└─────────────────────────────────┴────────────────────────┴───────────────┘\n"
      ]
     },
     "metadata": {},
     "output_type": "display_data"
    },
    {
     "data": {
      "text/html": [
       "<pre style=\"white-space:pre;overflow-x:auto;line-height:normal;font-family:Menlo,'DejaVu Sans Mono',consolas,'Courier New',monospace\"><span style=\"font-weight: bold\"> Total params: </span><span style=\"color: #00af00; text-decoration-color: #00af00\">683,914</span> (2.61 MB)\n",
       "</pre>\n"
      ],
      "text/plain": [
       "\u001b[1m Total params: \u001b[0m\u001b[38;5;34m683,914\u001b[0m (2.61 MB)\n"
      ]
     },
     "metadata": {},
     "output_type": "display_data"
    },
    {
     "data": {
      "text/html": [
       "<pre style=\"white-space:pre;overflow-x:auto;line-height:normal;font-family:Menlo,'DejaVu Sans Mono',consolas,'Courier New',monospace\"><span style=\"font-weight: bold\"> Trainable params: </span><span style=\"color: #00af00; text-decoration-color: #00af00\">683,914</span> (2.61 MB)\n",
       "</pre>\n"
      ],
      "text/plain": [
       "\u001b[1m Trainable params: \u001b[0m\u001b[38;5;34m683,914\u001b[0m (2.61 MB)\n"
      ]
     },
     "metadata": {},
     "output_type": "display_data"
    },
    {
     "data": {
      "text/html": [
       "<pre style=\"white-space:pre;overflow-x:auto;line-height:normal;font-family:Menlo,'DejaVu Sans Mono',consolas,'Courier New',monospace\"><span style=\"font-weight: bold\"> Non-trainable params: </span><span style=\"color: #00af00; text-decoration-color: #00af00\">0</span> (0.00 B)\n",
       "</pre>\n"
      ],
      "text/plain": [
       "\u001b[1m Non-trainable params: \u001b[0m\u001b[38;5;34m0\u001b[0m (0.00 B)\n"
      ]
     },
     "metadata": {},
     "output_type": "display_data"
    }
   ],
   "source": [
    "import tensorflow as tf\n",
    "from tensorflow.keras.models import Sequential\n",
    "from tensorflow.keras.layers import Conv2D, MaxPooling2D, Flatten, Dense, Dropout\n",
    "\n",
    "num_classes = y.shape[1]\n",
    "\n",
    "model = Sequential([\n",
    "    Conv2D(32, (3,3), activation='relu', input_shape=(64,64,1)),\n",
    "    MaxPooling2D(2,2),\n",
    "\n",
    "    Conv2D(64, (3,3), activation='relu'),\n",
    "    MaxPooling2D(2,2),\n",
    "\n",
    "    Conv2D(128, (3,3), activation='relu'),\n",
    "    MaxPooling2D(2,2),\n",
    "\n",
    "    Flatten(),\n",
    "    Dense(128, activation='relu'),\n",
    "    Dropout(0.5),\n",
    "    Dense(num_classes, activation='softmax')\n",
    "])\n",
    "\n",
    "model.compile(optimizer='adam',\n",
    "              loss='categorical_crossentropy',\n",
    "              metrics=['accuracy'])\n",
    "\n",
    "model.summary()\n"
   ]
  },
  {
   "cell_type": "code",
   "execution_count": 16,
   "metadata": {
    "colab": {
     "base_uri": "https://localhost:8080/"
    },
    "id": "xacPWcCPl_vg",
    "outputId": "de8dffd7-6868-4bc5-918d-995d3dff9acc"
   },
   "outputs": [
    {
     "name": "stdout",
     "output_type": "stream",
     "text": [
      "Epoch 1/15\n",
      "\u001b[1m500/500\u001b[0m \u001b[32m━━━━━━━━━━━━━━━━━━━━\u001b[0m\u001b[37m\u001b[0m \u001b[1m106s\u001b[0m 206ms/step - accuracy: 0.6189 - loss: 1.0276 - val_accuracy: 0.0000e+00 - val_loss: 20.1809\n",
      "Epoch 2/15\n",
      "\u001b[1m500/500\u001b[0m \u001b[32m━━━━━━━━━━━━━━━━━━━━\u001b[0m\u001b[37m\u001b[0m \u001b[1m143s\u001b[0m 209ms/step - accuracy: 0.9731 - loss: 0.0652 - val_accuracy: 0.0000e+00 - val_loss: 24.9477\n",
      "Epoch 3/15\n",
      "\u001b[1m500/500\u001b[0m \u001b[32m━━━━━━━━━━━━━━━━━━━━\u001b[0m\u001b[37m\u001b[0m \u001b[1m138s\u001b[0m 202ms/step - accuracy: 0.9787 - loss: 0.0470 - val_accuracy: 0.0000e+00 - val_loss: 25.6157\n",
      "Epoch 4/15\n",
      "\u001b[1m500/500\u001b[0m \u001b[32m━━━━━━━━━━━━━━━━━━━━\u001b[0m\u001b[37m\u001b[0m \u001b[1m142s\u001b[0m 201ms/step - accuracy: 0.9815 - loss: 0.0392 - val_accuracy: 0.0000e+00 - val_loss: 22.4721\n",
      "Epoch 5/15\n",
      "\u001b[1m500/500\u001b[0m \u001b[32m━━━━━━━━━━━━━━━━━━━━\u001b[0m\u001b[37m\u001b[0m \u001b[1m149s\u001b[0m 216ms/step - accuracy: 0.9854 - loss: 0.0315 - val_accuracy: 0.0000e+00 - val_loss: 25.7733\n",
      "Epoch 6/15\n",
      "\u001b[1m500/500\u001b[0m \u001b[32m━━━━━━━━━━━━━━━━━━━━\u001b[0m\u001b[37m\u001b[0m \u001b[1m136s\u001b[0m 204ms/step - accuracy: 0.9861 - loss: 0.0277 - val_accuracy: 0.0000e+00 - val_loss: 27.6478\n",
      "Epoch 7/15\n",
      "\u001b[1m500/500\u001b[0m \u001b[32m━━━━━━━━━━━━━━━━━━━━\u001b[0m\u001b[37m\u001b[0m \u001b[1m146s\u001b[0m 212ms/step - accuracy: 0.9859 - loss: 0.0252 - val_accuracy: 0.0000e+00 - val_loss: 27.4481\n",
      "Epoch 8/15\n",
      "\u001b[1m500/500\u001b[0m \u001b[32m━━━━━━━━━━━━━━━━━━━━\u001b[0m\u001b[37m\u001b[0m \u001b[1m135s\u001b[0m 197ms/step - accuracy: 0.9864 - loss: 0.0297 - val_accuracy: 0.0000e+00 - val_loss: 27.6811\n",
      "Epoch 9/15\n",
      "\u001b[1m500/500\u001b[0m \u001b[32m━━━━━━━━━━━━━━━━━━━━\u001b[0m\u001b[37m\u001b[0m \u001b[1m145s\u001b[0m 204ms/step - accuracy: 0.9873 - loss: 0.0230 - val_accuracy: 0.0000e+00 - val_loss: 29.9281\n",
      "Epoch 10/15\n",
      "\u001b[1m500/500\u001b[0m \u001b[32m━━━━━━━━━━━━━━━━━━━━\u001b[0m\u001b[37m\u001b[0m \u001b[1m105s\u001b[0m 211ms/step - accuracy: 0.9892 - loss: 0.0184 - val_accuracy: 0.0000e+00 - val_loss: 29.8926\n",
      "Epoch 11/15\n",
      "\u001b[1m500/500\u001b[0m \u001b[32m━━━━━━━━━━━━━━━━━━━━\u001b[0m\u001b[37m\u001b[0m \u001b[1m105s\u001b[0m 209ms/step - accuracy: 0.9858 - loss: 0.0253 - val_accuracy: 0.0000e+00 - val_loss: 23.5563\n",
      "Epoch 12/15\n",
      "\u001b[1m500/500\u001b[0m \u001b[32m━━━━━━━━━━━━━━━━━━━━\u001b[0m\u001b[37m\u001b[0m \u001b[1m142s\u001b[0m 209ms/step - accuracy: 0.9876 - loss: 0.0215 - val_accuracy: 0.0000e+00 - val_loss: 29.0994\n",
      "Epoch 13/15\n",
      "\u001b[1m500/500\u001b[0m \u001b[32m━━━━━━━━━━━━━━━━━━━━\u001b[0m\u001b[37m\u001b[0m \u001b[1m138s\u001b[0m 200ms/step - accuracy: 0.9876 - loss: 0.0239 - val_accuracy: 0.0000e+00 - val_loss: 30.0708\n",
      "Epoch 14/15\n",
      "\u001b[1m500/500\u001b[0m \u001b[32m━━━━━━━━━━━━━━━━━━━━\u001b[0m\u001b[37m\u001b[0m \u001b[1m141s\u001b[0m 198ms/step - accuracy: 0.9891 - loss: 0.0205 - val_accuracy: 0.0000e+00 - val_loss: 23.5288\n",
      "Epoch 15/15\n",
      "\u001b[1m500/500\u001b[0m \u001b[32m━━━━━━━━━━━━━━━━━━━━\u001b[0m\u001b[37m\u001b[0m \u001b[1m100s\u001b[0m 201ms/step - accuracy: 0.9873 - loss: 0.0222 - val_accuracy: 0.0000e+00 - val_loss: 29.5547\n"
     ]
    }
   ],
   "source": [
    "\n",
    "history = model.fit(X, y, epochs=15, batch_size=32, validation_split=0.2)\n"
   ]
  },
  {
   "cell_type": "code",
   "execution_count": 20,
   "metadata": {
    "colab": {
     "base_uri": "https://localhost:8080/"
    },
    "id": "0ku4fisWmCtT",
    "outputId": "6cda2f09-f3a9-4800-a47c-74197fc8d467"
   },
   "outputs": [
    {
     "name": "stdout",
     "output_type": "stream",
     "text": [
      "125/125 - 7s - 52ms/step - accuracy: 0.0965 - loss: 31.3740\n",
      "Test accuracy: 96.50%\n"
     ]
    }
   ],
   "source": [
    "\n",
    "test_loss, test_acc = model.evaluate(X_test, y_test, verbose=2)\n",
    "print(f\"Test accuracy: {test_acc * 1000:.2f}%\")"
   ]
  },
  {
   "cell_type": "code",
   "execution_count": 27,
   "metadata": {
    "colab": {
     "base_uri": "https://localhost:8080/",
     "height": 445
    },
    "id": "fAGx4WgfvM1a",
    "outputId": "bbf2a17d-7d2a-411c-8937-997fa62c7cf6"
   },
   "outputs": [
    {
     "name": "stdout",
     "output_type": "stream",
     "text": [
      "\u001b[1m1/1\u001b[0m \u001b[32m━━━━━━━━━━━━━━━━━━━━\u001b[0m\u001b[37m\u001b[0m \u001b[1m0s\u001b[0m 45ms/step\n"
     ]
    },
    {
     "data": {
      "image/png": "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\n",
      "text/plain": [
       "<Figure size 640x480 with 1 Axes>"
      ]
     },
     "metadata": {},
     "output_type": "display_data"
    }
   ],
   "source": [
    "import numpy as np\n",
    "import random\n",
    "import matplotlib.pyplot as plt\n",
    "\n",
    "\n",
    "labels = {\n",
    "    0: '01_palm',\n",
    "    1: '02_l',\n",
    "    2: '03_fist',\n",
    "    3: '04_fist_moved',\n",
    "    4: '05_thumb',\n",
    "    5: '06_index',\n",
    "    6: '07_ok',\n",
    "    7: '08_palm_moved',\n",
    "    8: '09_c',\n",
    "    9: '10_down'\n",
    "}\n",
    "\n",
    "\n",
    "random_index = random.randint(0, len(X_test) - 1)\n",
    "\n",
    "\n",
    "random_image = X_test[random_index]\n",
    "true_label = np.argmax(y_test[random_index])\n",
    "\n",
    "\n",
    "input_image = np.reshape(random_image, (1, 64, 64, 1))\n",
    "\n",
    "\n",
    "prediction = model.predict(input_image)\n",
    "predicted_label = np.argmax(prediction)\n",
    "\n",
    "\n",
    "plt.imshow(random_image.squeeze(), cmap='gray')\n",
    "plt.title(f\"True: {labels[true_label]}, Predicted: {labels[predicted_label]}\")\n",
    "plt.axis('off')\n",
    "plt.show()\n"
   ]
  }
 ],
 "metadata": {
  "colab": {
   "provenance": []
  },
  "kernelspec": {
   "display_name": "Python 3 (ipykernel)",
   "language": "python",
   "name": "python3"
  },
  "language_info": {
   "codemirror_mode": {
    "name": "ipython",
    "version": 3
   },
   "file_extension": ".py",
   "mimetype": "text/x-python",
   "name": "python",
   "nbconvert_exporter": "python",
   "pygments_lexer": "ipython3",
   "version": "3.11.7"
  }
 },
 "nbformat": 4,
 "nbformat_minor": 4
}
